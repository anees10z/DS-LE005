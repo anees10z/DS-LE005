{
 "cells": [
  {
   "cell_type": "code",
   "execution_count": 38,
   "id": "5f6465e9",
   "metadata": {},
   "outputs": [],
   "source": [
    "import pandas as pd\n",
    "import numpy as np\n",
    "import matplotlib.pyplot as plt\n",
    "import seaborn as sns\n",
    "%matplotlib inline\n",
    "\n",
    "## Display all the columns of the dataframes\n",
    "pd.pandas.set_option('display.max_columns',None)"
   ]
  },
  {
   "cell_type": "code",
   "execution_count": 52,
   "id": "27d782dc",
   "metadata": {},
   "outputs": [
    {
     "data": {
      "text/html": [
       "<div>\n",
       "<style scoped>\n",
       "    .dataframe tbody tr th:only-of-type {\n",
       "        vertical-align: middle;\n",
       "    }\n",
       "\n",
       "    .dataframe tbody tr th {\n",
       "        vertical-align: top;\n",
       "    }\n",
       "\n",
       "    .dataframe thead th {\n",
       "        text-align: right;\n",
       "    }\n",
       "</style>\n",
       "<table border=\"1\" class=\"dataframe\">\n",
       "  <thead>\n",
       "    <tr style=\"text-align: right;\">\n",
       "      <th></th>\n",
       "      <th>Index</th>\n",
       "      <th>Name</th>\n",
       "      <th>Description</th>\n",
       "      <th>Brand</th>\n",
       "      <th>Category</th>\n",
       "      <th>Price</th>\n",
       "      <th>Currency</th>\n",
       "      <th>Stock</th>\n",
       "      <th>EAN</th>\n",
       "      <th>Color</th>\n",
       "      <th>Size</th>\n",
       "      <th>Availability</th>\n",
       "      <th>Internal ID</th>\n",
       "    </tr>\n",
       "  </thead>\n",
       "  <tbody>\n",
       "    <tr>\n",
       "      <th>0</th>\n",
       "      <td>1</td>\n",
       "      <td>Thermostat Drone Heater</td>\n",
       "      <td>Consumer approach woman us those star.</td>\n",
       "      <td>Bradford-Yu</td>\n",
       "      <td>Kitchen Appliances</td>\n",
       "      <td>74</td>\n",
       "      <td>USD</td>\n",
       "      <td>139</td>\n",
       "      <td>8619793560985</td>\n",
       "      <td>Orchid</td>\n",
       "      <td>Medium</td>\n",
       "      <td>backorder</td>\n",
       "      <td>38</td>\n",
       "    </tr>\n",
       "    <tr>\n",
       "      <th>1</th>\n",
       "      <td>2</td>\n",
       "      <td>Ultra Speaker Iron Grill Advanced One</td>\n",
       "      <td>Point suggest easy money operation could white.</td>\n",
       "      <td>Douglas Group</td>\n",
       "      <td>Fitness Equipment</td>\n",
       "      <td>510</td>\n",
       "      <td>USD</td>\n",
       "      <td>351</td>\n",
       "      <td>3057216124300</td>\n",
       "      <td>MediumSeaGreen</td>\n",
       "      <td>Small</td>\n",
       "      <td>backorder</td>\n",
       "      <td>27</td>\n",
       "    </tr>\n",
       "    <tr>\n",
       "      <th>2</th>\n",
       "      <td>3</td>\n",
       "      <td>Watch Headphones Kettle</td>\n",
       "      <td>Reach husband education.</td>\n",
       "      <td>Landry-Austin</td>\n",
       "      <td>Beauty &amp; Personal Care</td>\n",
       "      <td>254</td>\n",
       "      <td>USD</td>\n",
       "      <td>409</td>\n",
       "      <td>9825254410556</td>\n",
       "      <td>Lavender</td>\n",
       "      <td>XXL</td>\n",
       "      <td>pre_order</td>\n",
       "      <td>2</td>\n",
       "    </tr>\n",
       "    <tr>\n",
       "      <th>3</th>\n",
       "      <td>4</td>\n",
       "      <td>Portable Toaster Clock Monitor Silent</td>\n",
       "      <td>Always choose school poor table main.</td>\n",
       "      <td>Odom, Norton and Foster</td>\n",
       "      <td>Makeup</td>\n",
       "      <td>69</td>\n",
       "      <td>USD</td>\n",
       "      <td>119</td>\n",
       "      <td>9490814777808</td>\n",
       "      <td>Pink</td>\n",
       "      <td>XL</td>\n",
       "      <td>in_stock</td>\n",
       "      <td>94</td>\n",
       "    </tr>\n",
       "    <tr>\n",
       "      <th>4</th>\n",
       "      <td>5</td>\n",
       "      <td>Pro Toaster Oven</td>\n",
       "      <td>Worry put discuss easy back too career.</td>\n",
       "      <td>Fowler, Mendoza and Mcdaniel</td>\n",
       "      <td>Automotive</td>\n",
       "      <td>525</td>\n",
       "      <td>USD</td>\n",
       "      <td>727</td>\n",
       "      <td>4726650403799</td>\n",
       "      <td>LightCoral</td>\n",
       "      <td>XL</td>\n",
       "      <td>in_stock</td>\n",
       "      <td>95</td>\n",
       "    </tr>\n",
       "  </tbody>\n",
       "</table>\n",
       "</div>"
      ],
      "text/plain": [
       "   Index                                   Name  \\\n",
       "0      1                Thermostat Drone Heater   \n",
       "1      2  Ultra Speaker Iron Grill Advanced One   \n",
       "2      3                Watch Headphones Kettle   \n",
       "3      4  Portable Toaster Clock Monitor Silent   \n",
       "4      5                       Pro Toaster Oven   \n",
       "\n",
       "                                       Description  \\\n",
       "0           Consumer approach woman us those star.   \n",
       "1  Point suggest easy money operation could white.   \n",
       "2                         Reach husband education.   \n",
       "3            Always choose school poor table main.   \n",
       "4          Worry put discuss easy back too career.   \n",
       "\n",
       "                          Brand                Category  Price Currency  \\\n",
       "0                   Bradford-Yu      Kitchen Appliances     74      USD   \n",
       "1                 Douglas Group       Fitness Equipment    510      USD   \n",
       "2                 Landry-Austin  Beauty & Personal Care    254      USD   \n",
       "3       Odom, Norton and Foster                  Makeup     69      USD   \n",
       "4  Fowler, Mendoza and Mcdaniel              Automotive    525      USD   \n",
       "\n",
       "   Stock            EAN           Color    Size Availability  Internal ID  \n",
       "0    139  8619793560985          Orchid  Medium    backorder           38  \n",
       "1    351  3057216124300  MediumSeaGreen   Small    backorder           27  \n",
       "2    409  9825254410556        Lavender     XXL    pre_order            2  \n",
       "3    119  9490814777808            Pink      XL     in_stock           94  \n",
       "4    727  4726650403799      LightCoral      XL     in_stock           95  "
      ]
     },
     "execution_count": 52,
     "metadata": {},
     "output_type": "execute_result"
    }
   ],
   "source": [
    "df = pd.read_csv('/workspaces/codespaces-jupyter/Data-Sets/products.csv', encoding='latin-1')\n",
    "df.head()"
   ]
  },
  {
   "cell_type": "code",
   "execution_count": 40,
   "id": "0f75402d",
   "metadata": {},
   "outputs": [
    {
     "data": {
      "text/plain": [
       "Index(['Index', 'Name', 'Description', 'Brand', 'Category', 'Price',\n",
       "       'Currency', 'Stock', 'EAN', 'Color', 'Size', 'Availability',\n",
       "       'Internal ID'],\n",
       "      dtype='object')"
      ]
     },
     "execution_count": 40,
     "metadata": {},
     "output_type": "execute_result"
    }
   ],
   "source": [
    "df.columns"
   ]
  },
  {
   "cell_type": "code",
   "execution_count": 41,
   "id": "0275b4e7",
   "metadata": {},
   "outputs": [
    {
     "name": "stdout",
     "output_type": "stream",
     "text": [
      "<class 'pandas.core.frame.DataFrame'>\n",
      "RangeIndex: 1000 entries, 0 to 999\n",
      "Data columns (total 13 columns):\n",
      " #   Column        Non-Null Count  Dtype \n",
      "---  ------        --------------  ----- \n",
      " 0   Index         1000 non-null   int64 \n",
      " 1   Name          1000 non-null   object\n",
      " 2   Description   1000 non-null   object\n",
      " 3   Brand         1000 non-null   object\n",
      " 4   Category      1000 non-null   object\n",
      " 5   Price         1000 non-null   int64 \n",
      " 6   Currency      1000 non-null   object\n",
      " 7   Stock         1000 non-null   int64 \n",
      " 8   EAN           1000 non-null   int64 \n",
      " 9   Color         1000 non-null   object\n",
      " 10  Size          1000 non-null   object\n",
      " 11  Availability  1000 non-null   object\n",
      " 12  Internal ID   1000 non-null   int64 \n",
      "dtypes: int64(5), object(8)\n",
      "memory usage: 101.7+ KB\n"
     ]
    }
   ],
   "source": [
    "df.info()"
   ]
  },
  {
   "cell_type": "code",
   "execution_count": 42,
   "id": "91c1f0f0",
   "metadata": {},
   "outputs": [
    {
     "data": {
      "text/plain": [
       "(1000, 13)"
      ]
     },
     "execution_count": 42,
     "metadata": {},
     "output_type": "execute_result"
    }
   ],
   "source": [
    "df.shape"
   ]
  },
  {
   "cell_type": "code",
   "execution_count": 43,
   "id": "88e232b1",
   "metadata": {},
   "outputs": [
    {
     "data": {
      "text/html": [
       "<div>\n",
       "<style scoped>\n",
       "    .dataframe tbody tr th:only-of-type {\n",
       "        vertical-align: middle;\n",
       "    }\n",
       "\n",
       "    .dataframe tbody tr th {\n",
       "        vertical-align: top;\n",
       "    }\n",
       "\n",
       "    .dataframe thead th {\n",
       "        text-align: right;\n",
       "    }\n",
       "</style>\n",
       "<table border=\"1\" class=\"dataframe\">\n",
       "  <thead>\n",
       "    <tr style=\"text-align: right;\">\n",
       "      <th></th>\n",
       "      <th>Index</th>\n",
       "      <th>Price</th>\n",
       "      <th>Stock</th>\n",
       "      <th>EAN</th>\n",
       "      <th>Internal ID</th>\n",
       "    </tr>\n",
       "  </thead>\n",
       "  <tbody>\n",
       "    <tr>\n",
       "      <th>count</th>\n",
       "      <td>1000.000000</td>\n",
       "      <td>1000.000000</td>\n",
       "      <td>1000.000000</td>\n",
       "      <td>1.000000e+03</td>\n",
       "      <td>1000.000000</td>\n",
       "    </tr>\n",
       "    <tr>\n",
       "      <th>mean</th>\n",
       "      <td>500.500000</td>\n",
       "      <td>506.549000</td>\n",
       "      <td>501.782000</td>\n",
       "      <td>5.130255e+12</td>\n",
       "      <td>47.690000</td>\n",
       "    </tr>\n",
       "    <tr>\n",
       "      <th>std</th>\n",
       "      <td>288.819436</td>\n",
       "      <td>283.773556</td>\n",
       "      <td>292.151318</td>\n",
       "      <td>2.907413e+12</td>\n",
       "      <td>28.984202</td>\n",
       "    </tr>\n",
       "    <tr>\n",
       "      <th>min</th>\n",
       "      <td>1.000000</td>\n",
       "      <td>1.000000</td>\n",
       "      <td>2.000000</td>\n",
       "      <td>4.842647e+08</td>\n",
       "      <td>1.000000</td>\n",
       "    </tr>\n",
       "    <tr>\n",
       "      <th>25%</th>\n",
       "      <td>250.750000</td>\n",
       "      <td>284.750000</td>\n",
       "      <td>243.000000</td>\n",
       "      <td>2.699217e+12</td>\n",
       "      <td>22.000000</td>\n",
       "    </tr>\n",
       "    <tr>\n",
       "      <th>50%</th>\n",
       "      <td>500.500000</td>\n",
       "      <td>497.500000</td>\n",
       "      <td>504.000000</td>\n",
       "      <td>5.118167e+12</td>\n",
       "      <td>46.000000</td>\n",
       "    </tr>\n",
       "    <tr>\n",
       "      <th>75%</th>\n",
       "      <td>750.250000</td>\n",
       "      <td>757.250000</td>\n",
       "      <td>750.250000</td>\n",
       "      <td>7.653439e+12</td>\n",
       "      <td>74.000000</td>\n",
       "    </tr>\n",
       "    <tr>\n",
       "      <th>max</th>\n",
       "      <td>1000.000000</td>\n",
       "      <td>999.000000</td>\n",
       "      <td>999.000000</td>\n",
       "      <td>9.994627e+12</td>\n",
       "      <td>99.000000</td>\n",
       "    </tr>\n",
       "  </tbody>\n",
       "</table>\n",
       "</div>"
      ],
      "text/plain": [
       "             Index        Price        Stock           EAN  Internal ID\n",
       "count  1000.000000  1000.000000  1000.000000  1.000000e+03  1000.000000\n",
       "mean    500.500000   506.549000   501.782000  5.130255e+12    47.690000\n",
       "std     288.819436   283.773556   292.151318  2.907413e+12    28.984202\n",
       "min       1.000000     1.000000     2.000000  4.842647e+08     1.000000\n",
       "25%     250.750000   284.750000   243.000000  2.699217e+12    22.000000\n",
       "50%     500.500000   497.500000   504.000000  5.118167e+12    46.000000\n",
       "75%     750.250000   757.250000   750.250000  7.653439e+12    74.000000\n",
       "max    1000.000000   999.000000   999.000000  9.994627e+12    99.000000"
      ]
     },
     "execution_count": 43,
     "metadata": {},
     "output_type": "execute_result"
    }
   ],
   "source": [
    "df.describe()"
   ]
  },
  {
   "cell_type": "markdown",
   "id": "15298527",
   "metadata": {},
   "source": [
    "## In data analysis what we will do\n",
    "1. missing values\n",
    "2. explore about the numerical variable \n",
    "3. explore about the categorical variable\n",
    "4. finding relationship between features "
   ]
  },
  {
   "cell_type": "markdown",
   "id": "6f48a3f8",
   "metadata": {},
   "source": [
    "## 1. Missing values"
   ]
  },
  {
   "cell_type": "code",
   "execution_count": 44,
   "id": "dffc8e57",
   "metadata": {},
   "outputs": [
    {
     "data": {
      "text/plain": [
       "Index           0\n",
       "Name            0\n",
       "Description     0\n",
       "Brand           0\n",
       "Category        0\n",
       "Price           0\n",
       "Currency        0\n",
       "Stock           0\n",
       "EAN             0\n",
       "Color           0\n",
       "Size            0\n",
       "Availability    0\n",
       "Internal ID     0\n",
       "dtype: int64"
      ]
     },
     "execution_count": 44,
     "metadata": {},
     "output_type": "execute_result"
    }
   ],
   "source": [
    "#to check which column has null values\n",
    "df.isnull().sum() "
   ]
  },
  {
   "cell_type": "code",
   "execution_count": 45,
   "id": "54f48ea8",
   "metadata": {},
   "outputs": [
    {
     "data": {
      "text/plain": [
       "[]"
      ]
     },
     "execution_count": 45,
     "metadata": {},
     "output_type": "execute_result"
    }
   ],
   "source": [
    "# to see which columns has the null values [gives output in list form]\n",
    "\n",
    "[features for features in df.columns if df[features].isnull().sum() > 0]\n"
   ]
  },
  {
   "cell_type": "code",
   "execution_count": null,
   "id": "0eb3bda0",
   "metadata": {},
   "outputs": [],
   "source": []
  },
  {
   "cell_type": "code",
   "execution_count": null,
   "id": "acf62d97",
   "metadata": {},
   "outputs": [],
   "source": []
  },
  {
   "cell_type": "code",
   "execution_count": null,
   "id": "197f427c",
   "metadata": {},
   "outputs": [],
   "source": []
  }
 ],
 "metadata": {
  "kernelspec": {
   "display_name": "Python 3",
   "language": "python",
   "name": "python3"
  },
  "language_info": {
   "codemirror_mode": {
    "name": "ipython",
    "version": 3
   },
   "file_extension": ".py",
   "mimetype": "text/x-python",
   "name": "python",
   "nbconvert_exporter": "python",
   "pygments_lexer": "ipython3",
   "version": "3.12.1"
  }
 },
 "nbformat": 4,
 "nbformat_minor": 5
}
