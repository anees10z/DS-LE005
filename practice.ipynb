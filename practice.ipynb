{
 "cells": [
  {
   "cell_type": "code",
   "execution_count": null,
   "id": "5b8fd93d",
   "metadata": {},
   "outputs": [
    {
     "data": {
      "text/html": [
       "<div>\n",
       "<style scoped>\n",
       "    .dataframe tbody tr th:only-of-type {\n",
       "        vertical-align: middle;\n",
       "    }\n",
       "\n",
       "    .dataframe tbody tr th {\n",
       "        vertical-align: top;\n",
       "    }\n",
       "\n",
       "    .dataframe thead th {\n",
       "        text-align: right;\n",
       "    }\n",
       "</style>\n",
       "<table border=\"1\" class=\"dataframe\">\n",
       "  <thead>\n",
       "    <tr style=\"text-align: right;\">\n",
       "      <th></th>\n",
       "      <th>image</th>\n",
       "      <th>hostRequirements</th>\n",
       "      <th>waitFor</th>\n",
       "      <th>updateContentCommand</th>\n",
       "      <th>postCreateCommand</th>\n",
       "      <th>customizations</th>\n",
       "    </tr>\n",
       "  </thead>\n",
       "  <tbody>\n",
       "    <tr>\n",
       "      <th>cpus</th>\n",
       "      <td>mcr.microsoft.com/devcontainers/universal:2</td>\n",
       "      <td>4.0</td>\n",
       "      <td>onCreateCommand</td>\n",
       "      <td>python3 -m pip install -r requirements.txt</td>\n",
       "      <td></td>\n",
       "      <td>NaN</td>\n",
       "    </tr>\n",
       "    <tr>\n",
       "      <th>codespaces</th>\n",
       "      <td>mcr.microsoft.com/devcontainers/universal:2</td>\n",
       "      <td>NaN</td>\n",
       "      <td>onCreateCommand</td>\n",
       "      <td>python3 -m pip install -r requirements.txt</td>\n",
       "      <td></td>\n",
       "      <td>{'openFiles': []}</td>\n",
       "    </tr>\n",
       "    <tr>\n",
       "      <th>vscode</th>\n",
       "      <td>mcr.microsoft.com/devcontainers/universal:2</td>\n",
       "      <td>NaN</td>\n",
       "      <td>onCreateCommand</td>\n",
       "      <td>python3 -m pip install -r requirements.txt</td>\n",
       "      <td></td>\n",
       "      <td>{'extensions': ['ms-toolsai.jupyter', 'ms-pyth...</td>\n",
       "    </tr>\n",
       "  </tbody>\n",
       "</table>\n",
       "</div>"
      ],
      "text/plain": [
       "                                                  image  hostRequirements  \\\n",
       "cpus        mcr.microsoft.com/devcontainers/universal:2               4.0   \n",
       "codespaces  mcr.microsoft.com/devcontainers/universal:2               NaN   \n",
       "vscode      mcr.microsoft.com/devcontainers/universal:2               NaN   \n",
       "\n",
       "                    waitFor                        updateContentCommand  \\\n",
       "cpus        onCreateCommand  python3 -m pip install -r requirements.txt   \n",
       "codespaces  onCreateCommand  python3 -m pip install -r requirements.txt   \n",
       "vscode      onCreateCommand  python3 -m pip install -r requirements.txt   \n",
       "\n",
       "           postCreateCommand  \\\n",
       "cpus                           \n",
       "codespaces                     \n",
       "vscode                         \n",
       "\n",
       "                                               customizations  \n",
       "cpus                                                      NaN  \n",
       "codespaces                                  {'openFiles': []}  \n",
       "vscode      {'extensions': ['ms-toolsai.jupyter', 'ms-pyth...  "
      ]
     },
     "execution_count": 1,
     "metadata": {},
     "output_type": "execute_result"
    }
   ],
   "source": [
    "import pandas as pd\n",
    "\n",
    "# pd.read_json(\"devcontainer.json\")"
   ]
  }
 ],
 "metadata": {
  "kernelspec": {
   "display_name": "Python 3",
   "language": "python",
   "name": "python3"
  },
  "language_info": {
   "codemirror_mode": {
    "name": "ipython",
    "version": 3
   },
   "file_extension": ".py",
   "mimetype": "text/x-python",
   "name": "python",
   "nbconvert_exporter": "python",
   "pygments_lexer": "ipython3",
   "version": "3.12.1"
  }
 },
 "nbformat": 4,
 "nbformat_minor": 5
}
